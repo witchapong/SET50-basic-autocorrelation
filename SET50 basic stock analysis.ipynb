{
 "cells": [
  {
   "cell_type": "markdown",
   "metadata": {},
   "source": [
    "<h2>Steps summary</h2><br>\n",
    "1) Scraping stock price from the desired quotes in a list<br>\n",
    "2) Determine for each stock whether it is mean reversion or trend following<br>\n",
    "3) Visulaize the result"
   ]
  },
  {
   "cell_type": "markdown",
   "metadata": {},
   "source": [
    "<h2>1) Scraping stock price from the desired quotes in a list</h2><br>\n",
    "copy quoute ของหุ้นใน SET50 จาก <a href=\"http://siamchart.com/stock/SET50\">siamchart</a> แบบตรงๆ -> เอามาแปะลง excel -> copy จาก excel มาลง Jupyter ตาม cell ด้านล่าง"
   ]
  },
  {
   "cell_type": "code",
   "execution_count": 2,
   "metadata": {},
   "outputs": [],
   "source": [
    "set50_str = '''ADVANC\n",
    "AOT\n",
    "BANPU\n",
    "BBL\n",
    "BDMS\n",
    "BEAUTY\n",
    "BEM\n",
    "BGRIM\n",
    "BH\n",
    "BJC\n",
    "BPP\n",
    "BTS\n",
    "CBG\n",
    "CENTEL\n",
    "CPALL\n",
    "CPF\n",
    "CPN\n",
    "DELTA\n",
    "DTAC\n",
    "EA\n",
    "EGCO\n",
    "GLOBAL\n",
    "GLOW\n",
    "GPSC\n",
    "HMPRO\n",
    "INTUCH\n",
    "IRPC\n",
    "IVL\n",
    "KBANK\n",
    "KKP\n",
    "KTB\n",
    "KTC\n",
    "LH\n",
    "MINT\n",
    "MTC\n",
    "PTT\n",
    "PTTEP\n",
    "PTTGC\n",
    "RATCH\n",
    "ROBINS\n",
    "SCB\n",
    "SCC\n",
    "SPRC\n",
    "TCAP\n",
    "TISCO\n",
    "TMB\n",
    "TOA\n",
    "TOP\n",
    "TRUE\n",
    "TU'''"
   ]
  },
  {
   "cell_type": "code",
   "execution_count": 5,
   "metadata": {},
   "outputs": [],
   "source": [
    "set50 = set50_str.split('\\n')"
   ]
  },
  {
   "cell_type": "code",
   "execution_count": 26,
   "metadata": {},
   "outputs": [
    {
     "name": "stdout",
     "output_type": "stream",
     "text": [
      "total quote: 50\n"
     ]
    }
   ],
   "source": [
    "print('total quote:',len(set50))"
   ]
  },
  {
   "cell_type": "markdown",
   "metadata": {},
   "source": [
    "ใช้ built-in API ของ YAHOO finance ใน pandas_datareader สำหรับดึงราคาหุ้น โดยฟอร์แมตในการดึงราคาหุ้นไทยจะอยู่ในฟอร์แมต QUOTE.BK เช่น ต้องการดึงราคาหุ้น ADVANC ก็ใช้ 'ADVANC.BK'"
   ]
  },
  {
   "cell_type": "code",
   "execution_count": 19,
   "metadata": {},
   "outputs": [],
   "source": [
    "from pandas_datareader import data as pdr\n",
    "from tqdm import tqdm,trange"
   ]
  },
  {
   "cell_type": "code",
   "execution_count": 12,
   "metadata": {},
   "outputs": [
    {
     "name": "stderr",
     "output_type": "stream",
     "text": [
      "100%|██████████| 50/50 [00:39<00:00,  1.22it/s]\n"
     ]
    }
   ],
   "source": [
    "stock_price = []\n",
    "stock_name = []\n",
    "for quote in tqdm(set50):\n",
    "    try:\n",
    "        stock_price.append(pdr.get_data_yahoo(f'{quote}.BK', start='2017-01-01', end='2018-11-30'))\n",
    "        stock_name.append(quote)\n",
    "    except:\n",
    "        print(\"Error:\", sys.exc_info()[0])\n",
    "        print(\"Description:\", sys.exc_info()[1])"
   ]
  },
  {
   "cell_type": "markdown",
   "metadata": {},
   "source": [
    "<h2>2) Determine for each stock whether it is mean reversion or trend following</h2>"
   ]
  },
  {
   "cell_type": "markdown",
   "metadata": {},
   "source": [
    "resample ข้อมูลราคาหุ้นรายวัน เป็นราคาปิดรายสัปดาห์(ตรงนี้แล้วแต่ แต่ละคนจะกำหนดช่วงเวลาว่าจะดูหุ้นเป็นรายวัน รายสัปดาห์ หรือรายเดือน) จากนั้นนำเอาราคาหุ้นมาคำนวณผลตอบแทนรายสัปดาห์ แล้วจึงคำนวณค่า autocorrelation (โดย default ถ้าไม่ได้กำหนดค่าอะไร จะเป็นการคำนวณค่าแบบ lag 1 คือ ค่า correlation ระหว่างๆ ผลตอบแทนธรรมดา กับ ผลตอบแทนที่เหลื่อมกันไป 1 หน่วยเวลา - สัปดาห์ ในที่นี้ )"
   ]
  },
  {
   "cell_type": "code",
   "execution_count": 20,
   "metadata": {},
   "outputs": [
    {
     "name": "stderr",
     "output_type": "stream",
     "text": [
      "  0%|          | 0/50 [00:00<?, ?it/s]/Users/witchapong/anaconda3/lib/python3.7/site-packages/ipykernel_launcher.py:3: FutureWarning: how in .resample() is deprecated\n",
      "the new syntax is .resample(...).last()\n",
      "  This is separate from the ipykernel package so we can avoid doing imports until\n",
      "100%|██████████| 50/50 [00:00<00:00, 137.16it/s]\n"
     ]
    }
   ],
   "source": [
    "auto_corr=[]\n",
    "for i in trange(len(stock_price)):\n",
    "    stock_price[i] = stock_price[i].resample(rule='W',how='last')\n",
    "    stock_price[i]['Return'] = stock_price[i]['Adj Close'].pct_change()\n",
    "    auto_corr.append(stock_price[i]['Return'].autocorr())"
   ]
  },
  {
   "cell_type": "markdown",
   "metadata": {},
   "source": [
    "<h2>3) Visualize the result!</h2>"
   ]
  },
  {
   "cell_type": "markdown",
   "metadata": {},
   "source": [
    "visualize ผลด้วย plotly... ด้านล่างนี้ผมใส่ ไม่ได้ใส่สีลงไปใน bar chart ใน code แต่สามารถดู chart แบบที่ใส่สีลงไปได้แล้ว<a href=\"https://plot.ly/dashboard/wdaroontham:42/view\">ที่นี่</a> (ผมไป edit สีเอาบนเว็บของ plotly ครับ แหะๆ) ถ้าเอาเมาส์ไปจิ้มๆ ดูที่ bar chart จะเห็นว่า หุ้นที่มีลักษณะเป็น mean reversion หนักๆ ได้แก่ EGCO TCAP RATCH KBANK TMB และหุ้นที่มีลักษณะเป็น trend following หนักๆ ได้แก่ TU BEAUTY KTC EA และ KKP ครับบ"
   ]
  },
  {
   "cell_type": "code",
   "execution_count": 22,
   "metadata": {},
   "outputs": [],
   "source": [
    "import pandas as pd\n",
    "result_df = pd.DataFrame({'quote':stock_name,'auto_corr':auto_corr})"
   ]
  },
  {
   "cell_type": "code",
   "execution_count": 24,
   "metadata": {},
   "outputs": [
    {
     "data": {
      "text/html": [
       "<iframe id=\"igraph\" scrolling=\"no\" style=\"border:none;\" seamless=\"seamless\" src=\"https://plot.ly/~wdaroontham/38.embed\" height=\"525px\" width=\"100%\"></iframe>"
      ],
      "text/plain": [
       "<plotly.tools.PlotlyDisplay object>"
      ]
     },
     "execution_count": 24,
     "metadata": {},
     "output_type": "execute_result"
    }
   ],
   "source": [
    "import plotly.plotly as py\n",
    "import plotly.graph_objs as go\n",
    "\n",
    "data = [go.Bar(\n",
    "            x=result_df['auto_corr'].values,\n",
    "            y=result_df['quote'].values,\n",
    "            orientation = 'h'\n",
    ")]\n",
    "\n",
    "py.iplot(data, filename='SET50 autocorrelation')"
   ]
  },
  {
   "cell_type": "code",
   "execution_count": null,
   "metadata": {},
   "outputs": [],
   "source": []
  }
 ],
 "metadata": {
  "kernelspec": {
   "display_name": "Python 3",
   "language": "python",
   "name": "python3"
  },
  "language_info": {
   "codemirror_mode": {
    "name": "ipython",
    "version": 3
   },
   "file_extension": ".py",
   "mimetype": "text/x-python",
   "name": "python",
   "nbconvert_exporter": "python",
   "pygments_lexer": "ipython3",
   "version": "3.7.0"
  }
 },
 "nbformat": 4,
 "nbformat_minor": 2
}
